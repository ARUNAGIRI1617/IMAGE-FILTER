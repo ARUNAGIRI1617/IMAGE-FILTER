{
  "nbformat": 4,
  "nbformat_minor": 0,
  "metadata": {
    "colab": {
      "name": "Copy of IFipynb",
      "provenance": [],
      "collapsed_sections": [],
      "toc_visible": true,
      "authorship_tag": "ABX9TyMN2jXW+b9l7HCHMKRZ/m8Q"
    },
    "kernelspec": {
      "name": "python3",
      "display_name": "Python 3"
    },
    "language_info": {
      "name": "python"
    },
    "accelerator": "GPU",
    "gpuClass": "standard"
  },
  "cells": [
    {
      "cell_type": "markdown",
      "source": [
        "REQUIRMENTS\n"
      ],
      "metadata": {
        "id": "wFfNJUsBURfT"
      }
    },
    {
      "cell_type": "code",
      "source": [
        "!pip install opencv-python \n",
        "!pip install streamlit -q"
      ],
      "metadata": {
        "id": "v3yE-gMiSRjE",
        "colab": {
          "base_uri": "https://localhost:8080/"
        },
        "outputId": "2083b662-4397-4115-910e-05745a2b3ee0"
      },
      "execution_count": null,
      "outputs": [
        {
          "output_type": "stream",
          "name": "stdout",
          "text": [
            "\u001b[K     |████████████████████████████████| 9.1 MB 34.2 MB/s \n",
            "\u001b[K     |████████████████████████████████| 164 kB 65.6 MB/s \n",
            "\u001b[K     |████████████████████████████████| 78 kB 7.7 MB/s \n",
            "\u001b[K     |████████████████████████████████| 181 kB 71.6 MB/s \n",
            "\u001b[K     |████████████████████████████████| 235 kB 72.0 MB/s \n",
            "\u001b[K     |████████████████████████████████| 4.3 MB 66.2 MB/s \n",
            "\u001b[K     |████████████████████████████████| 63 kB 1.9 MB/s \n",
            "\u001b[K     |████████████████████████████████| 132 kB 66.8 MB/s \n",
            "\u001b[K     |████████████████████████████████| 793 kB 65.8 MB/s \n",
            "\u001b[K     |████████████████████████████████| 423 kB 73.2 MB/s \n",
            "\u001b[K     |████████████████████████████████| 132 kB 78.1 MB/s \n",
            "\u001b[K     |████████████████████████████████| 381 kB 51.6 MB/s \n",
            "\u001b[K     |████████████████████████████████| 51 kB 8.3 MB/s \n",
            "\u001b[?25h  Building wheel for validators (setup.py) ... \u001b[?25l\u001b[?25hdone\n",
            "\u001b[31mERROR: pip's dependency resolver does not currently take into account all the packages that are installed. This behaviour is the source of the following dependency conflicts.\n",
            "nbclient 0.6.6 requires traitlets>=5.2.2, but you have traitlets 5.1.1 which is incompatible.\n",
            "jupyter-console 5.2.0 requires prompt-toolkit<2.0.0,>=1.0.0, but you have prompt-toolkit 3.0.30 which is incompatible.\n",
            "google-colab 1.0.0 requires ipykernel~=4.10, but you have ipykernel 6.15.1 which is incompatible.\n",
            "google-colab 1.0.0 requires ipython~=5.5.0, but you have ipython 7.34.0 which is incompatible.\n",
            "google-colab 1.0.0 requires tornado~=5.1.0, but you have tornado 6.2 which is incompatible.\u001b[0m\n"
          ]
        }
      ]
    },
    {
      "cell_type": "code",
      "source": [
        "!pip install pyngrok\n"
      ],
      "metadata": {
        "id": "0lskCNrDCvrr",
        "colab": {
          "base_uri": "https://localhost:8080/"
        },
        "outputId": "5331560d-181a-435b-b4a1-dfe66f307a59"
      },
      "execution_count": null,
      "outputs": [
        {
          "output_type": "stream",
          "name": "stdout",
          "text": [
            "Looking in indexes: https://pypi.org/simple, https://us-python.pkg.dev/colab-wheels/public/simple/\n",
            "Collecting pyngrok\n",
            "  Downloading pyngrok-5.1.0.tar.gz (745 kB)\n",
            "\u001b[K     |████████████████████████████████| 745 kB 13.4 MB/s \n",
            "\u001b[?25hRequirement already satisfied: PyYAML in /usr/local/lib/python3.7/dist-packages (from pyngrok) (3.13)\n",
            "Building wheels for collected packages: pyngrok\n",
            "  Building wheel for pyngrok (setup.py) ... \u001b[?25l\u001b[?25hdone\n",
            "  Created wheel for pyngrok: filename=pyngrok-5.1.0-py3-none-any.whl size=19007 sha256=6f92e53c260be09bee8005bbf02d66bbf47c9673e57534d4e65718c9ca136ed3\n",
            "  Stored in directory: /root/.cache/pip/wheels/bf/e6/af/ccf6598ecefecd44104069371795cb9b3afbcd16987f6ccfb3\n",
            "Successfully built pyngrok\n",
            "Installing collected packages: pyngrok\n",
            "Successfully installed pyngrok-5.1.0\n"
          ]
        }
      ]
    },
    {
      "cell_type": "markdown",
      "source": [
        "CODE "
      ],
      "metadata": {
        "id": "uqxFqHkhUcim"
      }
    },
    {
      "cell_type": "code",
      "source": [
        "%%writefile app.py \n",
        "import streamlit as st\n",
        "import cv2\n",
        "import numpy as np\n",
        "from PIL import Image\n",
        "\n",
        "# Title of an image filter app\n",
        "st.title('IMAGE FILTER ')\n",
        "\n",
        "img=Image.open(\"/content/download.png\")\n",
        "st.image(img)\n",
        "\n",
        "st.subheader(\"Image Filter Using OpenCV and Streamlit library\")\n",
        "\n",
        "# Image upload\n",
        "uploaded_image = st.file_uploader(\"Upload an image\", type=[\"jpg\", \"png\",\"jpeg\"])\n",
        "if uploaded_image is not None:\n",
        "    image = Image.open(uploaded_image)\n",
        "    \n",
        "    # Convert to numpy array\n",
        "    image_np = np.array(image)\n",
        "    # Show list of filters in radio button\n",
        "    st.title('Select a filter')\n",
        "    filter_name = st.radio('', ['None', 'Grayscale', 'Sepia', 'Invert', 'Blur', 'Gaussian Blur', 'Edge Detection', 'Pixelate'])\n",
        "\n",
        "    # Show image with selected filter\n",
        "    if filter_name == 'None':\n",
        "        st.image(image_np, use_column_width=True)\n",
        "    elif filter_name == 'Grayscale':\n",
        "        st.image(cv2.cvtColor(image_np, cv2.COLOR_BGR2GRAY), use_column_width=True)\n",
        "    elif filter_name == 'Sepia':\n",
        "        st.image(cv2.cvtColor(image_np, cv2.COLOR_BGR2HSV), use_column_width=True)\n",
        "    elif filter_name == 'Invert':\n",
        "        st.image(cv2.bitwise_not(image_np), use_column_width=True)\n",
        "    elif filter_name == 'Blur':\n",
        "        st.image(cv2.blur(image_np, (5, 5)), use_column_width=True)\n",
        "    elif filter_name == 'Gaussian Blur':\n",
        "        st.image(cv2.GaussianBlur(image_np, (5, 5), 0), use_column_width=True)\n",
        "    elif filter_name == 'Edge Detection':\n",
        "        st.image(cv2.Canny(image_np, 100, 200), use_column_width=True)\n",
        "    elif filter_name == 'Pixelate':\n",
        "        st.image(cv2.resize(image_np, (int(image_np.shape[1]/2),int(image_np.shape[0]/2))), use_column_width=True)"
      ],
      "metadata": {
        "colab": {
          "base_uri": "https://localhost:8080/"
        },
        "id": "sconQwrI6KA4",
        "outputId": "44d361a3-27b7-4034-93d1-42748ed0cf95"
      },
      "execution_count": null,
      "outputs": [
        {
          "output_type": "stream",
          "name": "stdout",
          "text": [
            "Writing app.py\n"
          ]
        }
      ]
    },
    {
      "cell_type": "markdown",
      "source": [
        "USING NGROK FOR TUNNELING"
      ],
      "metadata": {
        "id": "8uOx9XA5VKQD"
      }
    },
    {
      "cell_type": "code",
      "source": [
        "from pyngrok import ngrok\n",
        "ngrok.set_auth_token(\"YOUR_NGROK_AUTHENTICATION TOKEN\") #Create your ngrok account and paste your authentication token"
      ],
      "metadata": {
        "id": "xgc-nqIYBqhk"
      },
      "execution_count": null,
      "outputs": []
    },
    {
      "cell_type": "markdown",
      "source": [
        "RUN YOUR WEB APP"
      ],
      "metadata": {
        "id": "p0qkxfqPVAg_"
      }
    },
    {
      "cell_type": "code",
      "source": [
        "!nohup streamlit  run app.py --server.port 80 &\n",
        "url = ngrok.connect(port=80)\n",
        "print(url)"
      ],
      "metadata": {
        "id": "MPL15X8mEHot"
      },
      "execution_count": null,
      "outputs": []
    }
  ]
}